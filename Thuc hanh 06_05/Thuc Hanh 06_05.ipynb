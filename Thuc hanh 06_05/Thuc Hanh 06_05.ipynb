{
 "cells": [
  {
   "cell_type": "code",
   "execution_count": 1,
   "id": "d8b75ead",
   "metadata": {},
   "outputs": [],
   "source": [
    "with open('fb account.txt', 'r') as f:\n",
    "    lines = f.readlines()\n",
    "    email = lines[0].strip()\n",
    "    password = lines[1].strip()\n",
    "\n"
   ]
  },
  {
   "cell_type": "code",
   "execution_count": 3,
   "id": "f21973d1",
   "metadata": {},
   "outputs": [],
   "source": [
    "with open('Python post.txt', 'r') as f:\n",
    "    post= f.read().strip()"
   ]
  },
  {
   "cell_type": "code",
   "execution_count": null,
   "id": "ce490fca",
   "metadata": {},
   "outputs": [
    {
     "name": "stdout",
     "output_type": "stream",
     "text": [
      "✅ Đăng bài thành công!\n"
     ]
    }
   ],
   "source": [
    "import requests\n",
    "\n",
    "ACCESS_TOKEN = \"EAAJtNkwFjrgBO1j1SKfxxGElmFCngFJPI1mrfWrdZCVwLccZA8COYPUiE2HrhaKWh2rAMZAhzOJUFmRpSQhspwxUSEtC285Ql7cque2FpZCBNycFZBN4qKZBsAysCiZBsP9Yi112SCgA1YDNgq6nGTJe8kZAzzCGSrx5oSrhVbUVgbHUikEfZBlh0RPPa2CDbUl9vBgbcS8AmqZCFIIhbUKBZB7AMZBa\"\n",
    "PAGE_ID = \"575341902340464\"  \n",
    "MESSAGE = \"Lương Hoàng Việt đã xong bài thực hành 06-05-2025\"\n",
    "\n",
    "url = f\"https://graph.facebook.com/v22.0/{PAGE_ID}/feed\"\n",
    "payload = {\n",
    "    \"message\": MESSAGE,\n",
    "    \"access_token\": ACCESS_TOKEN\n",
    "}\n",
    "\n",
    "response = requests.post(url, data=payload)\n",
    "\n",
    "if response.status_code == 200:\n",
    "    print(\"✅ Đăng bài thành công!\")\n",
    "else:\n",
    "    print(\"❌ Lỗi:\", response.json())"
   ]
  }
 ],
 "metadata": {
  "kernelspec": {
   "display_name": "base",
   "language": "python",
   "name": "python3"
  },
  "language_info": {
   "codemirror_mode": {
    "name": "ipython",
    "version": 3
   },
   "file_extension": ".py",
   "mimetype": "text/x-python",
   "name": "python",
   "nbconvert_exporter": "python",
   "pygments_lexer": "ipython3",
   "version": "3.12.7"
  }
 },
 "nbformat": 4,
 "nbformat_minor": 5
}
